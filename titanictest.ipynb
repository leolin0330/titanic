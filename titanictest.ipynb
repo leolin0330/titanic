{
 "cells": [
  {
   "cell_type": "markdown",
   "metadata": {},
   "source": [
    " # *** <font color=#008000>一、資料說明 <font> ***"
   ]
  },
  {
   "cell_type": "markdown",
   "metadata": {},
   "source": [
    "### <font color=#0000FF>前三筆的資料</font>"
   ]
  },
  {
   "cell_type": "code",
   "execution_count": 15,
   "metadata": {},
   "outputs": [
    {
     "data": {
      "text/html": [
       "<div>\n",
       "<style scoped>\n",
       "    .dataframe tbody tr th:only-of-type {\n",
       "        vertical-align: middle;\n",
       "    }\n",
       "\n",
       "    .dataframe tbody tr th {\n",
       "        vertical-align: top;\n",
       "    }\n",
       "\n",
       "    .dataframe thead th {\n",
       "        text-align: right;\n",
       "    }\n",
       "</style>\n",
       "<table border=\"1\" class=\"dataframe\">\n",
       "  <thead>\n",
       "    <tr style=\"text-align: right;\">\n",
       "      <th></th>\n",
       "      <th>PassengerId</th>\n",
       "      <th>Survived</th>\n",
       "      <th>Pclass</th>\n",
       "      <th>Name</th>\n",
       "      <th>Sex</th>\n",
       "      <th>Age</th>\n",
       "      <th>SibSp</th>\n",
       "      <th>Parch</th>\n",
       "      <th>Ticket</th>\n",
       "      <th>Fare</th>\n",
       "      <th>Cabin</th>\n",
       "      <th>Embarked</th>\n",
       "    </tr>\n",
       "  </thead>\n",
       "  <tbody>\n",
       "    <tr>\n",
       "      <th>0</th>\n",
       "      <td>1</td>\n",
       "      <td>0</td>\n",
       "      <td>3</td>\n",
       "      <td>Braund, Mr. Owen Harris</td>\n",
       "      <td>male</td>\n",
       "      <td>22.0</td>\n",
       "      <td>1</td>\n",
       "      <td>0</td>\n",
       "      <td>A/5 21171</td>\n",
       "      <td>7.2500</td>\n",
       "      <td>NaN</td>\n",
       "      <td>S</td>\n",
       "    </tr>\n",
       "    <tr>\n",
       "      <th>1</th>\n",
       "      <td>2</td>\n",
       "      <td>1</td>\n",
       "      <td>1</td>\n",
       "      <td>Cumings, Mrs. John Bradley (Florence Briggs Th...</td>\n",
       "      <td>female</td>\n",
       "      <td>38.0</td>\n",
       "      <td>1</td>\n",
       "      <td>0</td>\n",
       "      <td>PC 17599</td>\n",
       "      <td>71.2833</td>\n",
       "      <td>C85</td>\n",
       "      <td>C</td>\n",
       "    </tr>\n",
       "    <tr>\n",
       "      <th>2</th>\n",
       "      <td>3</td>\n",
       "      <td>1</td>\n",
       "      <td>3</td>\n",
       "      <td>Heikkinen, Miss. Laina</td>\n",
       "      <td>female</td>\n",
       "      <td>26.0</td>\n",
       "      <td>0</td>\n",
       "      <td>0</td>\n",
       "      <td>STON/O2. 3101282</td>\n",
       "      <td>7.9250</td>\n",
       "      <td>NaN</td>\n",
       "      <td>S</td>\n",
       "    </tr>\n",
       "  </tbody>\n",
       "</table>\n",
       "</div>"
      ],
      "text/plain": [
       "   PassengerId   Survived  Pclass  \\\n",
       "0             1         0       3   \n",
       "1             2         1       1   \n",
       "2             3         1       3   \n",
       "\n",
       "                                                Name     Sex   Age  SibSp  \\\n",
       "0                            Braund, Mr. Owen Harris    male  22.0      1   \n",
       "1  Cumings, Mrs. John Bradley (Florence Briggs Th...  female  38.0      1   \n",
       "2                             Heikkinen, Miss. Laina  female  26.0      0   \n",
       "\n",
       "   Parch            Ticket     Fare Cabin Embarked  \n",
       "0      0         A/5 21171   7.2500   NaN        S  \n",
       "1      0          PC 17599  71.2833   C85        C  \n",
       "2      0  STON/O2. 3101282   7.9250   NaN        S  "
      ]
     },
     "execution_count": 15,
     "metadata": {},
     "output_type": "execute_result"
    }
   ],
   "source": [
    "import pandas as pd\n",
    "\n",
    "df=pd.read_csv('train1.csv')#讀檔案\n",
    "new_df = df.head(3)#取前3筆\n",
    "new_df"
   ]
  },
  {
   "cell_type": "markdown",
   "metadata": {},
   "source": [
    "### <font color=#0000FF>資料總比數(乘客數)</font>"
   ]
  },
  {
   "cell_type": "code",
   "execution_count": 23,
   "metadata": {},
   "outputs": [
    {
     "data": {
      "text/plain": [
       "891"
      ]
     },
     "execution_count": 23,
     "metadata": {},
     "output_type": "execute_result"
    }
   ],
   "source": [
    "len(df)"
   ]
  },
  {
   "cell_type": "markdown",
   "metadata": {},
   "source": [
    "### <font color=#0000FF>資料型態</font>"
   ]
  },
  {
   "cell_type": "code",
   "execution_count": 24,
   "metadata": {},
   "outputs": [
    {
     "data": {
      "text/plain": [
       "PassengerId       int64\n",
       "Survived          int64\n",
       "Pclass            int64\n",
       "Name             object\n",
       "Sex              object\n",
       "Age             float64\n",
       "SibSp             int64\n",
       "Parch             int64\n",
       "Ticket           object\n",
       "Fare            float64\n",
       "Cabin            object\n",
       "Embarked         object\n",
       "dtype: object"
      ]
     },
     "execution_count": 24,
     "metadata": {},
     "output_type": "execute_result"
    }
   ],
   "source": [
    "df.dtypes#資料型態"
   ]
  },
  {
   "cell_type": "markdown",
   "metadata": {},
   "source": [
    "### <font color=#0000FF>空值的欄位筆數</font>"
   ]
  },
  {
   "cell_type": "code",
   "execution_count": 25,
   "metadata": {},
   "outputs": [
    {
     "data": {
      "text/plain": [
       "PassengerId       0\n",
       "Survived          0\n",
       "Pclass            0\n",
       "Name              0\n",
       "Sex               0\n",
       "Age             177\n",
       "SibSp             0\n",
       "Parch             0\n",
       "Ticket            0\n",
       "Fare              0\n",
       "Cabin           687\n",
       "Embarked          2\n",
       "dtype: int64"
      ]
     },
     "execution_count": 25,
     "metadata": {},
     "output_type": "execute_result"
    }
   ],
   "source": [
    "df.isnull().sum()"
   ]
  },
  {
   "cell_type": "markdown",
   "metadata": {},
   "source": [
    "#  ***  <font color=#0000FF>二、單變相數據</font> ***"
   ]
  },
  {
   "cell_type": "markdown",
   "metadata": {},
   "source": [
    "### <font color=#0000FF>男女統計</font>"
   ]
  },
  {
   "cell_type": "code",
   "execution_count": 183,
   "metadata": {},
   "outputs": [
    {
     "data": {
      "image/png": "[encoded data removed]",
      "text/plain": [
       "<Figure size 648x432 with 1 Axes>"
      ]
     },
     "metadata": {},
     "output_type": "display_data"
    }
   ],
   "source": [
    "import pandas as pd\n",
    "import random\n",
    "import numpy as np\n",
    "import matplotlib.pyplot as plt\n",
    "import matplotlib as mpl\n",
    "from matplotlib.font_manager import FontProperties as font\n",
    "#顯示中文\n",
    "font = {'family' : 'SimHei',\n",
    "        'weight' : 'bold',\n",
    "        'size'   : '16'}\n",
    "plt.rc('font', **font)               # 步?一（?置字体的更多?性）\n",
    "plt.rc('axes', unicode_minus=False)  # 步?二（解?坐????的???示??）\n",
    "\n",
    "\n",
    "#男女人數\n",
    "male= df[df[\"Sex\"] == 'male'].Sex.values.size;\n",
    "female = df[df[\"Sex\"] == 'female'].Sex.values.size;\n",
    "\n",
    "# 分類類型\n",
    "category = ['男性', '女性']\n",
    "# 每月總花費\n",
    "expend = [male, female]\n",
    "# 設定顏色\n",
    "color = ['#6a5acd', '#ff0000']\n",
    "# 設定圓餅圖大小\n",
    "plt.figure(figsize=(9,6))\n",
    "# 依據類別數量，分別設定要突出的距離\n",
    "separeted = (0, 0.1)\n",
    "\n",
    "#數值\n",
    "def make_autopct(expend):\n",
    "    def my_autopct(pct):\n",
    "        total = sum(expend)\n",
    "        val = int(round(pct*total/100.0))\n",
    "    # 同时显示数值和占比的饼图\n",
    "        return '{p:.2f}%  ({v:d}人)'.format(p=pct,v=val)\n",
    "    return my_autopct\n",
    "\n",
    "# 設定圓餅圖屬性\n",
    "pictures,category_text,percent_text = plt.pie(\n",
    "        expend,                           # 數值\n",
    "        colors = color,                   # 指定圓餅圖的顏色\n",
    "        labels = category,                # 分類的標記\n",
    "        autopct = make_autopct(expend),   # 四捨五入至小數點後面位數\n",
    "        explode = separeted,              # 設定分隔的區塊位置\n",
    "        pctdistance = 0.5,               # 數值與圓餅圖的圓心距離\n",
    "        radius = 0.7,                     # 圓餅圖的半徑，預設是1\n",
    "        center = (0,0),                 # 圓餅圖的圓心座標  \n",
    "        shadow=False)                     # 是否使用陰影\n",
    "\n",
    "# 設定legnd的位置\n",
    "plt.legend(loc = \"best\")\n",
    "\n",
    "# 設定圖片標題，以及指定字型設定，x代表與圖案最左側的距離，y代表與圖片的距離\n",
    "plt.title(\"男女比例\",  x=0.5, y=0.9)\n",
    "\n",
    "# 畫出圓餅圖\n",
    "plt.show()"
   ]
  },
  {
   "cell_type": "markdown",
   "metadata": {},
   "source": [
    "### <font color=#0000FF>歲數統計</font>"
   ]
  },
  {
   "cell_type": "code",
   "execution_count": 182,
   "metadata": {},
   "outputs": [
    {
     "data": {
      "image/png": "[encoded data removed]",
      "text/plain": [
       "<Figure size 720x576 with 1 Axes>"
      ]
     },
     "metadata": {},
     "output_type": "display_data"
    }
   ],
   "source": [
    "import pandas as pd\n",
    "import random\n",
    "import numpy as np\n",
    "import matplotlib.pyplot as plt\n",
    "from matplotlib.font_manager import FontProperties as font\n",
    "\n",
    "#顯示中文\n",
    "font = {'family' : 'SimHei',\n",
    "        'weight' : 'bold',\n",
    "        'size'   : '16'}\n",
    "plt.rc('font', **font)               # 步?一（?置字体的更多?性）\n",
    "plt.rc('axes', unicode_minus=False)  # 步?二（解?坐????的???示??）\n",
    "\n",
    "df=pd.read_csv('train1.csv')#讀檔案\n",
    "\n",
    "#依歲數計算人數                                    \n",
    "b=df[df[\"Age\"].between(0.1,10)].Age.values.size \n",
    "c=df[df[\"Age\"].between(10.1,20)].Age.values.size\n",
    "d=df[df[\"Age\"].between(20.1,30)].Age.values.size\n",
    "e=df[df[\"Age\"].between(30.1,40)].Age.values.size\n",
    "f=df[df[\"Age\"].between(40.1,50)].Age.values.size\n",
    "g=df[df[\"Age\"].between(50.1,60)].Age.values.size\n",
    "h=df[df[\"Age\"].between(60.1,70)].Age.values.size\n",
    "i=df[df[\"Age\"].between(70.1,80)].Age.values.size\n",
    "j=df[df[\"Age\"].between(80.1,100)].Age.values.size\n",
    "k=df['Age'].isnull().sum()\n",
    "\n",
    "#生成資訊\n",
    "labels = ['0-10','11-20','21-30','31-40','41-50','51-60','61-70','71-80','81-100','不明']\n",
    "data1 = [b, c, d, e, f, g, h, i, j, k]\n",
    "width = 0.7\n",
    "xpos = np.arange(0,20,2)\n",
    "\n",
    "#生成柱狀圖\n",
    "fig, ax = plt.subplots(figsize=(10,8))\n",
    "bars1 = plt.bar(xpos ,data1, align='center', width=width, alpha=0.9, color='#1f77b4', label = '人數')\n",
    "\n",
    "#設定每個柱子下面的記號\n",
    "ax.set_xticks(xpos) #確定每個記號的位置\n",
    "ax.set_xticklabels(labels)  #確定每個記號的內容\n",
    "\n",
    "#給每個柱子上面新增標註\n",
    "def autolabel(rects):\n",
    "    \"\"\"Attach a text label above each bar in *rects*, displaying its height.\"\"\"\n",
    "    for rect in rects:\n",
    "        height = rect.get_height()\n",
    "        ax.annotate('{}人'.format(height),\n",
    "              xy=(rect.get_x() + rect.get_width() / 2, height),\n",
    "              xytext=(0, 3),  # 3 points vertical offset\n",
    "              textcoords=\"offset points\",\n",
    "              ha='center', va='bottom'\n",
    "              )\n",
    "autolabel(bars1)\n",
    "\n",
    "#展示結果\n",
    "plt.legend()\n",
    "#lable\n",
    "plt.title(\"歲數統計人數表\") # title\n",
    "plt.ylabel(\"人數\") # y label\n",
    "plt.xlabel(\"歲數\") # x label\n",
    "plt.show()"
   ]
  },
  {
   "cell_type": "code",
   "execution_count": null,
   "metadata": {},
   "outputs": [],
   "source": []
  }
 ],
 "metadata": {
  "kernelspec": {
   "display_name": "Python 3",
   "language": "python",
   "name": "python3"
  },
  "language_info": {
   "codemirror_mode": {
    "name": "ipython",
    "version": 3
   },
   "file_extension": ".py",
   "mimetype": "text/x-python",
   "name": "python",
   "nbconvert_exporter": "python",
   "pygments_lexer": "ipython3",
   "version": "3.6.5"
  }
 },
 "nbformat": 4,
 "nbformat_minor": 2
}
